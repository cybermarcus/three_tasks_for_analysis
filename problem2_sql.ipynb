{
 "cells": [
  {
   "cell_type": "markdown",
   "metadata": {},
   "source": [
    "# Тестовое задание\n",
    "## SQL"
   ]
  },
  {
   "cell_type": "markdown",
   "metadata": {},
   "source": [
    "### 2.1 Очень усердные ученики."
   ]
  },
  {
   "cell_type": "markdown",
   "metadata": {},
   "source": [
    "Образовательные курсы состоят из различных уроков, каждый из которых состоит из нескольких маленьких заданий. Каждое такое маленькое задание называется \"горошиной\".\n",
    "Назовём очень усердным учеником того пользователя, который хотя бы раз за текущий месяц правильно решил 20 горошин."
   ]
  },
  {
   "cell_type": "markdown",
   "metadata": {},
   "source": [
    "Дана таблица **default.peas**\n",
    "\n",
    "|Название атрибута|Тип атрибута|Смысловое значение|\n",
    "|-----------|-----------|-----------|\n",
    "|st_id|int|ID ученика|\n",
    "|timest|timestamp|Время решения карточки|\n",
    "|correct|bool|Правильно ли решена горошина?|\n",
    "|subject|text|Дисциплина, в которой находится горошина|"
   ]
  },
  {
   "cell_type": "markdown",
   "metadata": {},
   "source": [
    "Необходимо написать оптимальный запрос, который даст информацию о количестве очень усердных студентов"
   ]
  },
  {
   "cell_type": "markdown",
   "metadata": {},
   "source": [
    "Отправлять запросы буду из JupyterHub с помощью библиотеки pandahouse"
   ]
  },
  {
   "cell_type": "code",
   "execution_count": 1,
   "metadata": {},
   "outputs": [],
   "source": [
    "from CH import Getch"
   ]
  },
  {
   "cell_type": "code",
   "execution_count": 2,
   "metadata": {},
   "outputs": [],
   "source": [
    "# формирую SQL-запрос\n",
    "q1 = '''\n",
    "-- объявляю параметр с текущим месяцем\n",
    "WITH\n",
    "    (SELECT toMonth(MAX(timest)) FROM {db}.peas) AS current_month\n",
    "\n",
    "SELECT countIf(peas_count>=20) as diligent_students\n",
    "FROM\n",
    "    (SELECT\n",
    "        st_id,\n",
    "        countIf(correct=1 and toMonth(timest)=current_month) AS peas_count -- количество решённых горошин в текущем месяце\n",
    "    FROM {db}.peas\n",
    "    GROUP BY st_id)'''"
   ]
  },
  {
   "cell_type": "code",
   "execution_count": 3,
   "metadata": {},
   "outputs": [
    {
     "data": {
      "text/html": [
       "<div>\n",
       "<style scoped>\n",
       "    .dataframe tbody tr th:only-of-type {\n",
       "        vertical-align: middle;\n",
       "    }\n",
       "\n",
       "    .dataframe tbody tr th {\n",
       "        vertical-align: top;\n",
       "    }\n",
       "\n",
       "    .dataframe thead th {\n",
       "        text-align: right;\n",
       "    }\n",
       "</style>\n",
       "<table border=\"1\" class=\"dataframe\">\n",
       "  <thead>\n",
       "    <tr style=\"text-align: right;\">\n",
       "      <th></th>\n",
       "      <th>diligent_students</th>\n",
       "    </tr>\n",
       "  </thead>\n",
       "  <tbody>\n",
       "    <tr>\n",
       "      <th>0</th>\n",
       "      <td>136</td>\n",
       "    </tr>\n",
       "  </tbody>\n",
       "</table>\n",
       "</div>"
      ],
      "text/plain": [
       "   diligent_students\n",
       "0                136"
      ]
     },
     "execution_count": 3,
     "metadata": {},
     "output_type": "execute_result"
    }
   ],
   "source": [
    "# отправляю запрос и записываю результат в датафрейм\n",
    "answer1 = Getch(q1)\n",
    "answer1.df"
   ]
  },
  {
   "cell_type": "markdown",
   "metadata": {},
   "source": [
    "### 2.2 Оптимизация воронки"
   ]
  },
  {
   "cell_type": "markdown",
   "metadata": {},
   "source": [
    "Образовательная платформа предлагает пройти студентам курсы по модели trial: студент может решить бесплатно лишь 30 горошин в день. Для неограниченного количества заданий в определенной дисциплине студенту необходимо приобрести полный доступ. Команда провела эксперимент, где был протестирован новый экран оплаты."
   ]
  },
  {
   "cell_type": "markdown",
   "metadata": {},
   "source": [
    "Даны таблицы: **default.peas** (см. выше), **default.studs**:\n",
    "\n",
    "|Название атрибута|Тип атрибута|Смысловое значение|\n",
    "|-----------|-----------|-----------|\n",
    "|st_id|int|ID ученика|\n",
    "|test_grp|text|Метка ученика в данном эксперименте|\n",
    "\n",
    "и **default.final_project_check**:\n",
    "\n",
    "|Название атрибута|Тип атрибута|Смысловое значение|\n",
    "|-----------|-----------|-----------|\n",
    "|st_id|int|ID ученика|\n",
    "|sale_time|timestamp|Время покупки|\n",
    "|money|int|Цена, по которой приобрели данный курс|\n",
    "|subject|text |Дисциплина, в которой был приобретён курс|"
   ]
  },
  {
   "cell_type": "markdown",
   "metadata": {},
   "source": [
    "Необходимо в одном запросе выгрузить следующую информацию о группах пользователей:\n",
    "\n",
    "- ARPU \n",
    "- ARPAU \n",
    "- CR в покупку \n",
    "- СR активного пользователя в покупку \n",
    "- CR пользователя из активности по математике (subject = ’math’) в покупку курса по математике\n",
    "\n",
    "ARPU считается относительно всех пользователей, попавших в группы.\n",
    "\n",
    "**Активным** считается пользователь, за все время решивший **больше** 10 задач правильно в любых дисциплинах.\n",
    "\n",
    "**Активным по математике** считается пользователь, за все время решивший **2 или больше задач** правильно по математике."
   ]
  },
  {
   "cell_type": "markdown",
   "metadata": {},
   "source": [
    "В процессе написания запроса выяснил, что в таблицах для задания параметр **join_use_nulls**, который устанавливает тип поведения **JOIN**, равен **0**. Это значит, что пустые ячейки, возникающие при отсутствии соответствия между таблицами по ключу, заполняются значением по умолчанию соответствующего типа. В данном задании пустые ячейки с типом поля Int будут заполняться нулями, что поможет корректно посчитать **ARPU** (среднее значение выручки по пользователю), и сравнение с нулём будет условием для подсчёта количества строк."
   ]
  },
  {
   "cell_type": "markdown",
   "metadata": {},
   "source": [
    "За основу взял табличку **default.studs** с 600 пользователями разбитыми на группы. С помощью **LEFT JOIN** подтянул доходы по пользователю и количество решённых задач. На основе получившейся структуры рассчитал метрики по двум группам.  "
   ]
  },
  {
   "cell_type": "code",
   "execution_count": 4,
   "metadata": {},
   "outputs": [],
   "source": [
    "# формирую SQL-запрос\n",
    "q2 = '''\n",
    "WITH\n",
    "    solved_problems AS -- табличка с количеством решённых задач по пользователю + группа пользователя\n",
    "        (SELECT \n",
    "            st_id,\n",
    "            test_grp,\n",
    "            countIf(correct=1) as solved_problems,\n",
    "            countIf(correct=1 and subject='Math') as solved_math_problems\n",
    "        FROM {db}.studs\n",
    "        LEFT JOIN {db}.peas USING(st_id)\n",
    "        GROUP BY st_id, test_grp),\n",
    "        \n",
    "    revenue_by_users AS -- табличка с доходом по пользователю\n",
    "        (SELECT\n",
    "            st_id,\n",
    "            sum(money) as revenue,\n",
    "            sumIf(money, subject='Math') as math_revenue\n",
    "        FROM {db}.final_project_check\n",
    "        GROUP BY st_id)\n",
    "\n",
    "\n",
    "SELECT -- основная часть запроса с расчётом метрик\n",
    "    test_grp,\n",
    "    avg(revenue) as ARPU,\n",
    "    sum(revenue) / countIf(solved_problems>10) as ARPAU,\n",
    "    countIf(revenue>0) / count(st_id) as CR,\n",
    "    countIf(revenue>0) / countIf(solved_problems>10) as CR_active,\n",
    "    countIf(math_revenue>0) /\n",
    "    countIf(solved_math_problems>=2) as CR_math\n",
    "FROM solved_problems\n",
    "LEFT JOIN revenue_by_users USING(st_id)\n",
    "GROUP BY test_grp'''"
   ]
  },
  {
   "cell_type": "code",
   "execution_count": 5,
   "metadata": {},
   "outputs": [
    {
     "data": {
      "text/html": [
       "<div>\n",
       "<style scoped>\n",
       "    .dataframe tbody tr th:only-of-type {\n",
       "        vertical-align: middle;\n",
       "    }\n",
       "\n",
       "    .dataframe tbody tr th {\n",
       "        vertical-align: top;\n",
       "    }\n",
       "\n",
       "    .dataframe thead th {\n",
       "        text-align: right;\n",
       "    }\n",
       "</style>\n",
       "<table border=\"1\" class=\"dataframe\">\n",
       "  <thead>\n",
       "    <tr style=\"text-align: right;\">\n",
       "      <th></th>\n",
       "      <th>test_grp</th>\n",
       "      <th>ARPU</th>\n",
       "      <th>ARPAU</th>\n",
       "      <th>CR</th>\n",
       "      <th>CR_active</th>\n",
       "      <th>CR_math</th>\n",
       "    </tr>\n",
       "  </thead>\n",
       "  <tbody>\n",
       "    <tr>\n",
       "      <th>0</th>\n",
       "      <td>control</td>\n",
       "      <td>4540.98</td>\n",
       "      <td>10905.51</td>\n",
       "      <td>0.05</td>\n",
       "      <td>0.12</td>\n",
       "      <td>0.16</td>\n",
       "    </tr>\n",
       "    <tr>\n",
       "      <th>1</th>\n",
       "      <td>pilot</td>\n",
       "      <td>11508.47</td>\n",
       "      <td>35364.58</td>\n",
       "      <td>0.11</td>\n",
       "      <td>0.33</td>\n",
       "      <td>0.38</td>\n",
       "    </tr>\n",
       "  </tbody>\n",
       "</table>\n",
       "</div>"
      ],
      "text/plain": [
       "  test_grp      ARPU     ARPAU    CR  CR_active  CR_math\n",
       "0  control   4540.98  10905.51  0.05       0.12     0.16\n",
       "1    pilot  11508.47  35364.58  0.11       0.33     0.38"
      ]
     },
     "execution_count": 5,
     "metadata": {},
     "output_type": "execute_result"
    }
   ],
   "source": [
    "# отправляю запрос и записываю результат в датафрейм\n",
    "answer2 = Getch(q2)\n",
    "answer2.df.round(2)"
   ]
  },
  {
   "cell_type": "markdown",
   "metadata": {},
   "source": [
    "В экспериментальной группе виден рост всех метрик :)"
   ]
  }
 ],
 "metadata": {
  "kernelspec": {
   "display_name": "Python 3 (ipykernel)",
   "language": "python",
   "name": "python3"
  },
  "language_info": {
   "codemirror_mode": {
    "name": "ipython",
    "version": 3
   },
   "file_extension": ".py",
   "mimetype": "text/x-python",
   "name": "python",
   "nbconvert_exporter": "python",
   "pygments_lexer": "ipython3",
   "version": "3.8.10"
  }
 },
 "nbformat": 4,
 "nbformat_minor": 4
}
